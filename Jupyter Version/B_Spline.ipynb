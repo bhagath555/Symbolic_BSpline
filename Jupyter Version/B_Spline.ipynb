{
 "cells": [
  {
   "cell_type": "code",
   "execution_count": 1,
   "metadata": {},
   "outputs": [],
   "source": [
    "import numpy as np\n",
    "import sympy as symp\n",
    "import matplotlib.pyplot as plt"
   ]
  },
  {
   "cell_type": "markdown",
   "metadata": {},
   "source": [
    "# B-Spline basis function"
   ]
  },
  {
   "cell_type": "markdown",
   "metadata": {},
   "source": [
    "### Knot Vector helpers"
   ]
  },
  {
   "cell_type": "code",
   "execution_count": 2,
   "metadata": {},
   "outputs": [],
   "source": [
    "def unique(knot):\n",
    "    unique_knot = []\n",
    "    for i in knot:\n",
    "        if i not in unique_knot:\n",
    "            unique_knot.append(i)\n",
    "    return unique_knot\n",
    "\n",
    "def check_non_decreasing(knot):\n",
    "    size = len(knot)\n",
    "    for i in range(0,size):\n",
    "        for j in range(i+1, size):\n",
    "            if knot[i]>knot[j]:\n",
    "                raise Exception('Please enter the non-decreasing knot vector')"
   ]
  },
  {
   "cell_type": "code",
   "execution_count": 3,
   "metadata": {},
   "outputs": [],
   "source": [
    "def basis_index(p, knot, el):\n",
    "    basis = []\n",
    "    for i in range(0,p+1):\n",
    "        basis.append(i)\n",
    "\n",
    "    unq_knt = unique(knot)\n",
    "    size = len(knot)\n",
    "    span = unq_knt[el-1:el+1]\n",
    "    \n",
    "    cnt = 0\n",
    "    for i in range(1,el):\n",
    "        temp_knt = knot[p+i:size]\n",
    "        for j in temp_knt:\n",
    "            if unq_knt[i]==j:\n",
    "                cnt = cnt+1\n",
    "                \n",
    "    for i in range(0,p+1):\n",
    "        basis[i] = basis[i]+cnt\n",
    "    \n",
    "#     print(basis)\n",
    "    return basis, span"
   ]
  },
  {
   "cell_type": "code",
   "execution_count": 4,
   "metadata": {},
   "outputs": [],
   "source": [
    "def bspline_sym(i, p, knot, xi, xval):\n",
    "    \"\"\"\n",
    "    This function returns the B-Spline basis function with following data\n",
    "    \n",
    "    Input::\n",
    "        i - Index of basis function.\n",
    "        p - Degree of Spline.\n",
    "        knot - Knot Vector\n",
    "        xi - Symbolic value of xi\n",
    "        xval - Parametric value\n",
    "        \n",
    "    Output:\n",
    "        Symbolic expression of B-Spline Derivative\n",
    "    \"\"\"\n",
    "    \n",
    "    check_non_decreasing(knot)\n",
    "    \n",
    "    for j in range(0,p+1):\n",
    "        if knot[j] !=0 or knot[-1-j] !=1:\n",
    "            raise Exception(\"Please Enter Valid, Clamped Knot vector\")\n",
    "            \n",
    "    if p==0:\n",
    "        if xval==1:\n",
    "            if knot[i]<=xval<=knot[i+1]:\n",
    "                B=1       \n",
    "            else:\n",
    "                B=0\n",
    "        else:\n",
    "            if knot[i]<=xval<knot[i+1]:\n",
    "                B=1       \n",
    "            else:\n",
    "                B=0\n",
    "                \n",
    "    elif p>0:\n",
    "        d1 = (knot[i+p]-knot[i])\n",
    "        d2 = (knot[i+p+1]-knot[i+1])\n",
    "        if d1==0:\n",
    "            b1 = 0\n",
    "        else:\n",
    "            b1 = ((xi-knot[i])/d1)*bspline_sym(i, p-1, knot, xi,xval)\n",
    "        if d2==0:\n",
    "            b2= 0\n",
    "        else:\n",
    "            b2 = ((knot[i+p+1]-xi)/d2)*bspline_sym(i+1, p-1, knot, xi,xval)\n",
    "\n",
    "        B = b1+b2\n",
    "    else:\n",
    "        B=0\n",
    "    \n",
    "    return B"
   ]
  },
  {
   "cell_type": "markdown",
   "metadata": {},
   "source": [
    "### Element basis functions"
   ]
  },
  {
   "cell_type": "code",
   "execution_count": 16,
   "metadata": {},
   "outputs": [],
   "source": [
    "def bspline_elem_basis(p, knot, xi, el, simplify):\n",
    "    basis, span = basis_index(p, knot, el)\n",
    "    xval = (span[0]+span[1])/2\n",
    "    funcs = []\n",
    "#     print(basis, span)\n",
    "#     print(xval)\n",
    "    for b in basis:\n",
    "        funcs.append(bspline_sym(b,p,knot,xi,xval))\n",
    "        \n",
    "    if simplify:\n",
    "        for i in range(0,len(funcs)):\n",
    "            funcs[i] = funcs[i].simplify() \n",
    "    else:\n",
    "        for i in range(0,len(funcs)):\n",
    "            funcs[i] = funcs[i].expand()\n",
    "     \n",
    "    return funcs"
   ]
  },
  {
   "cell_type": "markdown",
   "metadata": {},
   "source": [
    "## Element Basis functions"
   ]
  },
  {
   "cell_type": "code",
   "execution_count": 34,
   "metadata": {},
   "outputs": [
    {
     "data": {
      "text/latex": [
       "$\\displaystyle 4.0 \\left(\\xi - 0.5\\right)^{2}$"
      ],
      "text/plain": [
       "4.0*(xi - 0.5)**2"
      ]
     },
     "execution_count": 34,
     "metadata": {},
     "output_type": "execute_result"
    }
   ],
   "source": [
    "p = 2\n",
    "kont = [0,0,0,0.5,1,1,1]\n",
    "xi = symp.Symbol('xi')\n",
    "el = 1\n",
    "simplify = True\n",
    "basis  = bspline_elem_basis(p, kont, xi, el, simplify)\n",
    "basis[0]"
   ]
  },
  {
   "cell_type": "code",
   "execution_count": 31,
   "metadata": {},
   "outputs": [
    {
     "name": "stdout",
     "output_type": "stream",
     "text": [
      "\\left[ 4.0 \\left(\\xi - 0.5\\right)^{2}, \\  \\xi \\left(4.0 - 6.0 \\xi\\right), \\  2.0 \\xi^{2}\\right]\n"
     ]
    }
   ],
   "source": [
    "# Latex format of the basis functions.\n",
    "print(symp.latex(basis))"
   ]
  },
  {
   "cell_type": "markdown",
   "metadata": {},
   "source": [
    "## Plotting Basis function"
   ]
  },
  {
   "cell_type": "code",
   "execution_count": 6,
   "metadata": {},
   "outputs": [
    {
     "data": {
      "image/png": "[encoded data removed]",
      "text/plain": [
       "<Figure size 432x288 with 1 Axes>"
      ]
     },
     "metadata": {
      "needs_background": "light"
     },
     "output_type": "display_data"
    }
   ],
   "source": [
    "a = symp.Symbol('xi')\n",
    "p = 3\n",
    "knot = [0,0,0,0,0.5,1,1,1,1]\n",
    "\n",
    "num = len(knot)-(p+1)\n",
    "for i in range(0,num):\n",
    "    par = [];\n",
    "    bsp = []\n",
    "    for x in range(0,101):\n",
    "        basis =bspline_sym(i, p, knot, a,x/100)\n",
    "        par.append(x/100)\n",
    "        bsp.append(basis.subs(a,x/100))\n",
    "    plt.plot(par,bsp)\n"
   ]
  },
  {
   "cell_type": "markdown",
   "metadata": {},
   "source": [
    "# B-spline derivative"
   ]
  },
  {
   "cell_type": "code",
   "execution_count": 69,
   "metadata": {},
   "outputs": [],
   "source": [
    "def bspline_der(i,p,knot,xi,xval, n):\n",
    "    \"\"\"\n",
    "    This function returns the n^th order derivative of B-Spline basis function with following data\n",
    "    \n",
    "    Input::\n",
    "        i - Index of basis function.\n",
    "        p - Degree of Spline.\n",
    "        knot - Knot Vector\n",
    "        xi - Symbolic value of xi\n",
    "        xval - Parametric value\n",
    "        n - Order of the derivative\n",
    "        \n",
    "    Output:\n",
    "        Symbolic expression of n^th order derivative of B-Spline\n",
    "    \"\"\"\n",
    "    if n==1:\n",
    "        d1 = knot[i+p]-knot[i]\n",
    "        if d1==0:\n",
    "            B1 = 0\n",
    "        else:\n",
    "            B1 = (p/d1)*bspline_sym(i, p-1, knot, xi, xval)\n",
    "\n",
    "        print(B1)\n",
    "\n",
    "        d2 = knot[i+p+1]-knot[i+1]\n",
    "        if d2==0:\n",
    "            B2 = 0\n",
    "        else:\n",
    "            B2 = (p/d2)*bspline_sym(i+1, p-1, knot, xi, xval)\n",
    "        print(B2)\n",
    "        der = B1-B2\n",
    "    else:\n",
    "        d1 = knot[i+p]-knot[i]\n",
    "        if d1==0:\n",
    "            B1 = 0\n",
    "        else:\n",
    "            B1 = (p/d1)*bspline_der(i, p-1, knot, xi, xval,n-1)\n",
    "\n",
    "        print(B1)\n",
    "\n",
    "        d2 = knot[i+p+1]-knot[i+1]\n",
    "        if d2==0:\n",
    "            B2 = 0\n",
    "        else:\n",
    "            B2 = (p/d2)*bspline_der(i+1, p-1, knot, xi, xval,n-1)\n",
    "        print(B2)\n",
    "        der = B1-B2\n",
    "        \n",
    "    return der"
   ]
  },
  {
   "cell_type": "markdown",
   "metadata": {},
   "source": [
    "# Calculating the Derivative"
   ]
  },
  {
   "cell_type": "code",
   "execution_count": 73,
   "metadata": {},
   "outputs": [
    {
     "name": "stdout",
     "output_type": "stream",
     "text": [
      "2.0\n",
      "0.0\n",
      "4.0\n",
      "0.0\n",
      "0\n",
      "0.0\n"
     ]
    },
    {
     "data": {
      "text/plain": [
       "4.0"
      ]
     },
     "execution_count": 73,
     "metadata": {},
     "output_type": "execute_result"
    }
   ],
   "source": [
    "a = sp.Symbol('xi')\n",
    "i = 2\n",
    "p = 2\n",
    "knot = [0,0,0,0.5,1,1,1]\n",
    "xval = 0\n",
    "bspline_der(i,p,knot,a,xval,2)"
   ]
  }
 ],
 "metadata": {
  "kernelspec": {
   "display_name": "Python 3",
   "language": "python",
   "name": "python3"
  },
  "language_info": {
   "codemirror_mode": {
    "name": "ipython",
    "version": 3
   },
   "file_extension": ".py",
   "mimetype": "text/x-python",
   "name": "python",
   "nbconvert_exporter": "python",
   "pygments_lexer": "ipython3",
   "version": "3.7.6"
  }
 },
 "nbformat": 4,
 "nbformat_minor": 4
}
