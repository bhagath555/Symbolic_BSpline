{
 "cells": [
  {
   "cell_type": "code",
   "execution_count": 6,
   "metadata": {},
   "outputs": [],
   "source": [
    "import numpy as np\n",
    "import sympy as symp\n",
    "import matplotlib.pyplot as plt"
   ]
  },
  {
   "cell_type": "markdown",
   "metadata": {},
   "source": [
    "# B-Spline basis function"
   ]
  },
  {
   "cell_type": "markdown",
   "metadata": {},
   "source": [
    "### Knot Vector helpers"
   ]
  },
  {
   "cell_type": "code",
   "execution_count": 7,
   "metadata": {},
   "outputs": [],
   "source": [
    "def unique(knot):\n",
    "    unique_knot = []\n",
    "    for i in knot:\n",
    "        if i not in unique_knot:\n",
    "            unique_knot.append(i)\n",
    "    return unique_knot\n",
    "\n",
    "def check_non_decreasing(knot):\n",
    "    size = len(knot)\n",
    "    for i in range(0,size):\n",
    "        for j in range(i+1, size):\n",
    "            if knot[i]>knot[j]:\n",
    "                raise Exception('Please enter the knot decreasing knot vecotr')"
   ]
  },
  {
   "cell_type": "code",
   "execution_count": 8,
   "metadata": {},
   "outputs": [],
   "source": [
    "def basis_index(p, knot, el):\n",
    "    basis = []\n",
    "    for i in range(0,p+1):\n",
    "        basis.append(i)\n",
    "\n",
    "    unq_knt = unique(knot)\n",
    "    size = len(knot)\n",
    "    span = unq_knt[el-1:el+1]\n",
    "    \n",
    "    cnt = 0\n",
    "    for i in range(1,el):\n",
    "        temp_knt = knot[p+i:size]\n",
    "        for j in temp_knt:\n",
    "            if unq_knt[i]==j:\n",
    "                cnt = cnt+1\n",
    "                \n",
    "    for i in range(0,p+1):\n",
    "        basis[i] = basis[i]+cnt\n",
    "    \n",
    "#     print(basis)\n",
    "    return basis, span"
   ]
  },
  {
   "cell_type": "code",
   "execution_count": 17,
   "metadata": {},
   "outputs": [],
   "source": [
    "def bspline_sym(i, p, knot, xi, xval):\n",
    "    \"\"\"\n",
    "    This function returns the B-Spline basis function with following data\n",
    "    \n",
    "    Input::\n",
    "        i - Index of basis function.\n",
    "        p - Degree of Spline.\n",
    "        knot - Knot Vector\n",
    "        xi - Symbolic value of xi\n",
    "        xval - Parametric value\n",
    "        \n",
    "    Output:\n",
    "        Symbolic expression of B-Spline Derivative\n",
    "    \"\"\"\n",
    "    \n",
    "    check_non_decreasing(knot)\n",
    "    \n",
    "    for j in range(0,p+1):\n",
    "        if knot[j] !=0 or knot[-1-j] !=1:\n",
    "            raise Exception(\"Please Enter Valid, Clamped Knot vector\")\n",
    "            \n",
    "    if p==0:\n",
    "        if xval==1:\n",
    "            if knot[i]<=xval<=knot[i+1]:\n",
    "                B=1       \n",
    "            else:\n",
    "                B=0\n",
    "        else:\n",
    "            if knot[i]<=xval<knot[i+1]:\n",
    "                B=1       \n",
    "            else:\n",
    "                B=0\n",
    "                \n",
    "    elif p>0:\n",
    "        d1 = (knot[i+p]-knot[i])\n",
    "        d2 = (knot[i+p+1]-knot[i+1])\n",
    "        if d1==0:\n",
    "            b1 = 0\n",
    "        else:\n",
    "            b1 = ((xi-knot[i])/d1)*bspline_sym(i, p-1, knot, xi,xval)\n",
    "        if d2==0:\n",
    "            b2= 0\n",
    "        else:\n",
    "            b2 = ((knot[i+p+1]-xi)/d2)*bspline_sym(i+1, p-1, knot, xi,xval)\n",
    "\n",
    "        B = b1+b2\n",
    "    else:\n",
    "        B=0\n",
    "    \n",
    "    return B"
   ]
  },
  {
   "cell_type": "markdown",
   "metadata": {},
   "source": [
    "### Element basis functions"
   ]
  },
  {
   "cell_type": "code",
   "execution_count": 27,
   "metadata": {},
   "outputs": [],
   "source": [
    "def bspline_elem_basis(p, kont, xi, el):\n",
    "    basis, span = basis_index(p, kont, el)\n",
    "    xval = (span[0]+span[1])/2\n",
    "    funcs = []\n",
    "#     print(basis, span)\n",
    "#     print(xval)\n",
    "    for b in basis:\n",
    "        funcs.append(bspline_sym(b,p,knot,xi,xval))\n",
    "        \n",
    "    for i in range(0,len(funcs)):\n",
    "        funcs[i] = funcs[i].simplify()\n",
    "    return funcs"
   ]
  },
  {
   "cell_type": "markdown",
   "metadata": {},
   "source": [
    "## Plotting Basis function"
   ]
  },
  {
   "cell_type": "code",
   "execution_count": 16,
   "metadata": {},
   "outputs": [
    {
     "data": {
      "image/png": "[encoded data removed]",
      "text/plain": [
       "<Figure size 432x288 with 1 Axes>"
      ]
     },
     "metadata": {
      "needs_background": "light"
     },
     "output_type": "display_data"
    }
   ],
   "source": [
    "a = symp.Symbol('xi')\n",
    "i = 1\n",
    "p = 2\n",
    "knot = [0,0,0,0.5,1,1,1]\n",
    "span = 3\n",
    "basis =bspline_sym(2, p, knot, a,0.75)\n",
    "\n",
    "for i in range(0,4):\n",
    "    par = [];\n",
    "    bsp = []\n",
    "    for x in range(0,101):\n",
    "        basis =bspline_sym(i, p, knot, a,x/100)\n",
    "        par.append(x/100)\n",
    "        bsp.append(basis.subs(a,x/100))\n",
    "        plt.plot(par,bsp)\n"
   ]
  },
  {
   "cell_type": "code",
   "execution_count": 6,
   "metadata": {},
   "outputs": [
    {
     "data": {
      "text/latex": [
       "$\\displaystyle 4.0 \\left(0.5 - \\xi\\right)^{2}$"
      ],
      "text/plain": [
       "4.0*(0.5 - xi)**2"
      ]
     },
     "execution_count": 6,
     "metadata": {},
     "output_type": "execute_result"
    }
   ],
   "source": [
    "basis = bspline_sym(0, p, knot, a,0.25)\n",
    "basis"
   ]
  },
  {
   "cell_type": "code",
   "execution_count": 7,
   "metadata": {},
   "outputs": [
    {
     "data": {
      "text/latex": [
       "$\\displaystyle 4.0 \\left(\\xi - 0.5\\right)^{2}$"
      ],
      "text/plain": [
       "4.0*(xi - 0.5)**2"
      ]
     },
     "execution_count": 7,
     "metadata": {},
     "output_type": "execute_result"
    }
   ],
   "source": [
    "# Simplify the equation\n",
    "sp.simplify(basis)"
   ]
  },
  {
   "cell_type": "code",
   "execution_count": 8,
   "metadata": {},
   "outputs": [
    {
     "data": {
      "text/latex": [
       "$\\displaystyle 4.0 \\xi^{2} - 4.0 \\xi + 1.0$"
      ],
      "text/plain": [
       "4.0*xi**2 - 4.0*xi + 1.0"
      ]
     },
     "execution_count": 8,
     "metadata": {},
     "output_type": "execute_result"
    }
   ],
   "source": [
    "# Expand the Equation\n",
    "basis.expand()"
   ]
  },
  {
   "cell_type": "markdown",
   "metadata": {},
   "source": [
    "## Element Basis functions"
   ]
  },
  {
   "cell_type": "code",
   "execution_count": 9,
   "metadata": {},
   "outputs": [],
   "source": []
  },
  {
   "cell_type": "code",
   "execution_count": 10,
   "metadata": {},
   "outputs": [],
   "source": []
  },
  {
   "cell_type": "code",
   "execution_count": 15,
   "metadata": {},
   "outputs": [],
   "source": []
  },
  {
   "cell_type": "code",
   "execution_count": 16,
   "metadata": {},
   "outputs": [
    {
     "data": {
      "text/plain": [
       "([3, 4, 5], [0.5, 1])"
      ]
     },
     "execution_count": 16,
     "metadata": {},
     "output_type": "execute_result"
    }
   ],
   "source": [
    "elbasis(2, [0,0,0,0.33,0.33,0.5,1,1,1], 3)"
   ]
  },
  {
   "cell_type": "code",
   "execution_count": 17,
   "metadata": {},
   "outputs": [],
   "source": []
  },
  {
   "cell_type": "code",
   "execution_count": 37,
   "metadata": {},
   "outputs": [
    {
     "data": {
      "text/latex": [
       "$\\displaystyle 4.0 \\left(\\xi - 0.5\\right)^{2}$"
      ],
      "text/plain": [
       "4.0*(xi - 0.5)**2"
      ]
     },
     "execution_count": 37,
     "metadata": {},
     "output_type": "execute_result"
    }
   ],
   "source": [
    "p = 2\n",
    "kont = [0,0,0,0.5,1,1,1]\n",
    "xi = symp.Symbol('xi')\n",
    "el = 2\n",
    "k  = bspline_elem_basis(p, kont, xi, el)\n",
    "k[2]"
   ]
  },
  {
   "cell_type": "code",
   "execution_count": 23,
   "metadata": {},
   "outputs": [
    {
     "ename": "AttributeError",
     "evalue": "'list' object has no attribute 'replace'",
     "output_type": "error",
     "traceback": [
      "\u001b[1;31m---------------------------------------------------------------------------\u001b[0m",
      "\u001b[1;31mAttributeError\u001b[0m                            Traceback (most recent call last)",
      "\u001b[1;32m<ipython-input-23-12148794b5fc>\u001b[0m in \u001b[0;36m<module>\u001b[1;34m\u001b[0m\n\u001b[1;32m----> 1\u001b[1;33m \u001b[0mq\u001b[0m \u001b[1;33m=\u001b[0m\u001b[0msymp\u001b[0m\u001b[1;33m.\u001b[0m\u001b[0msimplify\u001b[0m\u001b[1;33m(\u001b[0m\u001b[0mk\u001b[0m\u001b[1;33m)\u001b[0m\u001b[1;33m\u001b[0m\u001b[1;33m\u001b[0m\u001b[0m\n\u001b[0m\u001b[0;32m      2\u001b[0m \u001b[0mq\u001b[0m\u001b[1;33m[\u001b[0m\u001b[1;36m0\u001b[0m\u001b[1;33m]\u001b[0m\u001b[1;33m\u001b[0m\u001b[1;33m\u001b[0m\u001b[0m\n",
      "\u001b[1;32mC:\\ProgramData\\Anaconda3\\lib\\site-packages\\sympy\\simplify\\simplify.py\u001b[0m in \u001b[0;36msimplify\u001b[1;34m(expr, ratio, measure, rational, inverse, doit, **kwargs)\u001b[0m\n\u001b[0;32m    557\u001b[0m         \u001b[1;32mreturn\u001b[0m \u001b[0m_eval_simplify\u001b[0m\u001b[1;33m(\u001b[0m\u001b[1;33m**\u001b[0m\u001b[0mkwargs\u001b[0m\u001b[1;33m)\u001b[0m\u001b[1;33m\u001b[0m\u001b[1;33m\u001b[0m\u001b[0m\n\u001b[0;32m    558\u001b[0m \u001b[1;33m\u001b[0m\u001b[0m\n\u001b[1;32m--> 559\u001b[1;33m     \u001b[0moriginal_expr\u001b[0m \u001b[1;33m=\u001b[0m \u001b[0mexpr\u001b[0m \u001b[1;33m=\u001b[0m \u001b[0mcollect_abs\u001b[0m\u001b[1;33m(\u001b[0m\u001b[0msignsimp\u001b[0m\u001b[1;33m(\u001b[0m\u001b[0mexpr\u001b[0m\u001b[1;33m)\u001b[0m\u001b[1;33m)\u001b[0m\u001b[1;33m\u001b[0m\u001b[1;33m\u001b[0m\u001b[0m\n\u001b[0m\u001b[0;32m    560\u001b[0m \u001b[1;33m\u001b[0m\u001b[0m\n\u001b[0;32m    561\u001b[0m     \u001b[1;32mif\u001b[0m \u001b[1;32mnot\u001b[0m \u001b[0misinstance\u001b[0m\u001b[1;33m(\u001b[0m\u001b[0mexpr\u001b[0m\u001b[1;33m,\u001b[0m \u001b[0mBasic\u001b[0m\u001b[1;33m)\u001b[0m \u001b[1;32mor\u001b[0m \u001b[1;32mnot\u001b[0m \u001b[0mexpr\u001b[0m\u001b[1;33m.\u001b[0m\u001b[0margs\u001b[0m\u001b[1;33m:\u001b[0m  \u001b[1;31m# XXX: temporary hack\u001b[0m\u001b[1;33m\u001b[0m\u001b[1;33m\u001b[0m\u001b[0m\n",
      "\u001b[1;32mC:\\ProgramData\\Anaconda3\\lib\\site-packages\\sympy\\simplify\\radsimp.py\u001b[0m in \u001b[0;36mcollect_abs\u001b[1;34m(expr)\u001b[0m\n\u001b[0;32m    577\u001b[0m       \u001b[1;32mreturn\u001b[0m \u001b[0mMul\u001b[0m\u001b[1;33m.\u001b[0m\u001b[0m_from_args\u001b[0m\u001b[1;33m(\u001b[0m\u001b[0margs\u001b[0m\u001b[1;33m,\u001b[0m \u001b[0mis_commutative\u001b[0m\u001b[1;33m=\u001b[0m\u001b[1;32mnot\u001b[0m \u001b[0mnc\u001b[0m\u001b[1;33m)\u001b[0m\u001b[1;33m\u001b[0m\u001b[1;33m\u001b[0m\u001b[0m\n\u001b[0;32m    578\u001b[0m \u001b[1;33m\u001b[0m\u001b[0m\n\u001b[1;32m--> 579\u001b[1;33m     return expr.replace(\n\u001b[0m\u001b[0;32m    580\u001b[0m         \u001b[1;32mlambda\u001b[0m \u001b[0mx\u001b[0m\u001b[1;33m:\u001b[0m \u001b[0misinstance\u001b[0m\u001b[1;33m(\u001b[0m\u001b[0mx\u001b[0m\u001b[1;33m,\u001b[0m \u001b[0mMul\u001b[0m\u001b[1;33m)\u001b[0m\u001b[1;33m,\u001b[0m\u001b[1;33m\u001b[0m\u001b[1;33m\u001b[0m\u001b[0m\n\u001b[0;32m    581\u001b[0m         \u001b[1;32mlambda\u001b[0m \u001b[0mx\u001b[0m\u001b[1;33m:\u001b[0m \u001b[0m_abs\u001b[0m\u001b[1;33m(\u001b[0m\u001b[0mx\u001b[0m\u001b[1;33m)\u001b[0m\u001b[1;33m)\u001b[0m\u001b[1;33m.\u001b[0m\u001b[0mreplace\u001b[0m\u001b[1;33m(\u001b[0m\u001b[1;33m\u001b[0m\u001b[1;33m\u001b[0m\u001b[0m\n",
      "\u001b[1;31mAttributeError\u001b[0m: 'list' object has no attribute 'replace'"
     ]
    }
   ],
   "source": [
    "for bas in basis:\n",
    "    "
   ]
  },
  {
   "cell_type": "markdown",
   "metadata": {},
   "source": [
    "# B-spline derivative"
   ]
  },
  {
   "cell_type": "code",
   "execution_count": 69,
   "metadata": {},
   "outputs": [],
   "source": [
    "def bspline_der(i,p,knot,xi,xval, n):\n",
    "    \"\"\"\n",
    "    This function returns the n^th order derivative of B-Spline basis function with following data\n",
    "    \n",
    "    Input::\n",
    "        i - Index of basis function.\n",
    "        p - Degree of Spline.\n",
    "        knot - Knot Vector\n",
    "        xi - Symbolic value of xi\n",
    "        xval - Parametric value\n",
    "        n - Order of the derivative\n",
    "        \n",
    "    Output:\n",
    "        Symbolic expression of n^th order derivative of B-Spline\n",
    "    \"\"\"\n",
    "    if n==1:\n",
    "        d1 = knot[i+p]-knot[i]\n",
    "        if d1==0:\n",
    "            B1 = 0\n",
    "        else:\n",
    "            B1 = (p/d1)*bspline_sym(i, p-1, knot, xi, xval)\n",
    "\n",
    "        print(B1)\n",
    "\n",
    "        d2 = knot[i+p+1]-knot[i+1]\n",
    "        if d2==0:\n",
    "            B2 = 0\n",
    "        else:\n",
    "            B2 = (p/d2)*bspline_sym(i+1, p-1, knot, xi, xval)\n",
    "        print(B2)\n",
    "        der = B1-B2\n",
    "    else:\n",
    "        d1 = knot[i+p]-knot[i]\n",
    "        if d1==0:\n",
    "            B1 = 0\n",
    "        else:\n",
    "            B1 = (p/d1)*bspline_der(i, p-1, knot, xi, xval,n-1)\n",
    "\n",
    "        print(B1)\n",
    "\n",
    "        d2 = knot[i+p+1]-knot[i+1]\n",
    "        if d2==0:\n",
    "            B2 = 0\n",
    "        else:\n",
    "            B2 = (p/d2)*bspline_der(i+1, p-1, knot, xi, xval,n-1)\n",
    "        print(B2)\n",
    "        der = B1-B2\n",
    "        \n",
    "    return der"
   ]
  },
  {
   "cell_type": "markdown",
   "metadata": {},
   "source": [
    "# Calculating the Derivative"
   ]
  },
  {
   "cell_type": "code",
   "execution_count": 73,
   "metadata": {},
   "outputs": [
    {
     "name": "stdout",
     "output_type": "stream",
     "text": [
      "2.0\n",
      "0.0\n",
      "4.0\n",
      "0.0\n",
      "0\n",
      "0.0\n"
     ]
    },
    {
     "data": {
      "text/plain": [
       "4.0"
      ]
     },
     "execution_count": 73,
     "metadata": {},
     "output_type": "execute_result"
    }
   ],
   "source": [
    "a = sp.Symbol('xi')\n",
    "i = 2\n",
    "p = 2\n",
    "knot = [0,0,0,0.5,1,1,1]\n",
    "xval = 0\n",
    "bspline_der(i,p,knot,a,xval,2)"
   ]
  },
  {
   "cell_type": "markdown",
   "metadata": {},
   "source": [
    "Fields in tree strucutre,\n",
    "element volume, center, Density, objective function,\n",
    "Topology functions,\n",
    "Multi-Patch,\n",
    "PHT geometry,\n",
    "Topology Optimization,\n",
    "Visualization,\n",
    "VTU exporter,\n",
    "Storing Iteration data in Tree Structure.\n",
    "\n",
    "Filter Normal, Finding Neighbours are already in the Paper.\n"
   ]
  },
  {
   "cell_type": "markdown",
   "metadata": {},
   "source": [
    "## Knot Insertion Algorithm\n",
    "\n",
    "#### This algorithm allows the insertion of new knot value into knot vector by keeping the geometry Geometry same. This Operation is Geometry preserving algorithm."
   ]
  },
  {
   "cell_type": "code",
   "execution_count": 3,
   "metadata": {},
   "outputs": [],
   "source": [
    "p= 2;\n",
    "P = [[0,0,0],[1,1,0],[2,0,0]]\n",
    "knot = [0,0,0,1,1,1]"
   ]
  },
  {
   "cell_type": "code",
   "execution_count": 203,
   "metadata": {},
   "outputs": [],
   "source": [
    "def knotinsertion(p,P,knot, values):\n",
    "    \n",
    "    # Checking the values is a list or not\n",
    "    if type(values)!=list:\n",
    "        raise Exception('Please enter the values as a list, even it has single value')\n",
    "\n",
    "    new_P = [];\n",
    "    new_knot = knot\n",
    "    ks = []\n",
    "    np = len(P)\n",
    "    for val in values:\n",
    "        alps = []\n",
    "        if knot[0]<val<knot[-1]:\n",
    "            for i in range(0,len(knot)-1):\n",
    "                if knot[i]<=val and knot[i+1]>val:\n",
    "                    ks.append(i)\n",
    "                    print(ks)\n",
    "                    k = i\n",
    "                    print('K Values is',k)\n",
    "                    np = np+1\n",
    "                    for a in range(0,np):\n",
    "                        if 0<=a<=k-p:\n",
    "                            a1 = 1\n",
    "                        elif k-p+1<=a<=k:\n",
    "                            a1 = (val-knot[a])/(knot[a+p]-knot[a])\n",
    "                        else:\n",
    "                            a1 = 0\n",
    "                        alps.append(a1)\n",
    "                    print(alps)\n",
    "                    knot.insert(i+1,val)\n",
    "                    break\n",
    "        else:\n",
    "            raise Exception('Please inter the knot values in range 0 and 1')\n",
    "    \n",
    "\n",
    "        "
   ]
  },
  {
   "cell_type": "code",
   "execution_count": 207,
   "metadata": {},
   "outputs": [
    {
     "name": "stdout",
     "output_type": "stream",
     "text": [
      "[2]\n",
      "K Values is 2\n",
      "[1, 0.5, 0.5, 0]\n"
     ]
    }
   ],
   "source": [
    "p= 2;\n",
    "P = [[0,0,0],[1,1,0],[2,0,0]]\n",
    "knot = [0,0,0,1,1,1]\n",
    "values = [0.5]\n",
    "knotinsertion(p,P,knot,values)"
   ]
  },
  {
   "cell_type": "markdown",
   "metadata": {},
   "source": [
    "## Degree Elevation"
   ]
  },
  {
   "cell_type": "code",
   "execution_count": null,
   "metadata": {},
   "outputs": [],
   "source": [
    "def degree_elevation(p, knot):\n",
    "    "
   ]
  },
  {
   "cell_type": "code",
   "execution_count": 33,
   "metadata": {},
   "outputs": [
    {
     "data": {
      "text/plain": [
       "'2.0 \\\\xi^{2}'"
      ]
     },
     "execution_count": 33,
     "metadata": {},
     "output_type": "execute_result"
    }
   ],
   "source": [
    "symp.latex(k[2])"
   ]
  },
  {
   "cell_type": "code",
   "execution_count": 34,
   "metadata": {},
   "outputs": [
    {
     "data": {
      "text/latex": [
       "$\\displaystyle 2.0 \\xi^{2}$"
      ],
      "text/plain": [
       "2.0*xi**2"
      ]
     },
     "execution_count": 34,
     "metadata": {},
     "output_type": "execute_result"
    }
   ],
   "source": [
    "k[2]"
   ]
  },
  {
   "cell_type": "code",
   "execution_count": null,
   "metadata": {},
   "outputs": [],
   "source": [
    "* Intial base geometry desct NURBS patch\n",
    "* Analsysis is done in PHT \n",
    "Jacob, \n",
    "B^T, B xi deta\n",
    "stiffness matrix\n",
    "Heirarchiel T-mesh\n",
    "NURBS mesh\n",
    "In GIFT frame work we use multipatch NURBS for geometric and analysis is being done based on Heirarchiel T-mesh using PHT splines."
   ]
  }
 ],
 "metadata": {
  "kernelspec": {
   "display_name": "Python 3",
   "language": "python",
   "name": "python3"
  },
  "language_info": {
   "codemirror_mode": {
    "name": "ipython",
    "version": 3
   },
   "file_extension": ".py",
   "mimetype": "text/x-python",
   "name": "python",
   "nbconvert_exporter": "python",
   "pygments_lexer": "ipython3",
   "version": "3.7.6"
  }
 },
 "nbformat": 4,
 "nbformat_minor": 4
}
